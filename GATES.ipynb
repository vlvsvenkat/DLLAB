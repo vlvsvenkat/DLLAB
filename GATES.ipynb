{
  "nbformat": 4,
  "nbformat_minor": 0,
  "metadata": {
    "colab": {
      "provenance": [],
      "toc_visible": true,
      "include_colab_link": true
    },
    "kernelspec": {
      "name": "python3",
      "display_name": "Python 3"
    },
    "language_info": {
      "name": "python"
    }
  },
  "cells": [
    {
      "cell_type": "markdown",
      "metadata": {
        "id": "view-in-github",
        "colab_type": "text"
      },
      "source": [
        "<a href=\"https://colab.research.google.com/github/vlvsvenkat/DLLAB/blob/main/GATES.ipynb\" target=\"_parent\"><img src=\"https://colab.research.google.com/assets/colab-badge.svg\" alt=\"Open In Colab\"/></a>"
      ]
    },
    {
      "cell_type": "code",
      "execution_count": 1,
      "metadata": {
        "id": "14YoVvh5CP9m"
      },
      "outputs": [],
      "source": [
        "import numpy as np\n",
        "import pandas as pd\n",
        "import matplotlib.pyplot as plt"
      ]
    },
    {
      "cell_type": "code",
      "source": [
        "from google.colab import drive\n",
        "drive.mount('/content/drive')"
      ],
      "metadata": {
        "id": "FT6Xd5OBcMpE",
        "colab": {
          "base_uri": "https://localhost:8080/"
        },
        "outputId": "49547a42-4c49-4c42-adde-6b960e26959d"
      },
      "execution_count": 3,
      "outputs": [
        {
          "output_type": "stream",
          "name": "stdout",
          "text": [
            "Mounted at /content/drive\n"
          ]
        }
      ]
    },
    {
      "cell_type": "code",
      "source": [
        "x=[0.5,0.4,0.7]\n",
        "w=[0.3,0.4,0.3]\n",
        "b=0.3\n",
        "def step(t):\n",
        "    if t>=0:\n",
        "        return 1\n",
        "    else:\n",
        "        return 0\n",
        "def predict(w,x,b):\n",
        "    return step(np.matmul(w,x)+b)\n",
        "print (predict(w,x,b))"
      ],
      "metadata": {
        "colab": {
          "base_uri": "https://localhost:8080/"
        },
        "id": "5t3w3YMOExrs",
        "outputId": "3c07aa5e-0a0a-4684-87a6-667924105a74"
      },
      "execution_count": 4,
      "outputs": [
        {
          "output_type": "stream",
          "name": "stdout",
          "text": [
            "1\n"
          ]
        }
      ]
    },
    {
      "cell_type": "code",
      "source": [
        "import numpy as np\n",
        "def step_function(x):\n",
        "    return 1 if x >= 0.5 else 0\n",
        "def sigmoid(x):\n",
        "    return 1 / (1 + np.exp(-x))\n",
        "\n",
        "def sigmoid_derivative(x):\n",
        "    return x * (1 - x)\n",
        "\n",
        "def mean_squared_error(y_true, y_pred):\n",
        "    return 0.5 * np.mean((y_true - y_pred) ** 2)\n"
      ],
      "metadata": {
        "id": "J72t_yGuI-v1"
      },
      "execution_count": 5,
      "outputs": []
    },
    {
      "cell_type": "code",
      "source": [
        "class Perceptron:\n",
        "    def __init__(self, input_size, learning_rate=0.1, epochs=100):\n",
        "        self.weights = np.random.randn(input_size)\n",
        "        self.bias = np.random.randn()\n",
        "        self.learning_rate = learning_rate\n",
        "        self.epochs = epochs\n",
        "\n",
        "    def forward(self, inputs):\n",
        "        self.inputs = inputs\n",
        "        self.linear_sum = np.dot(inputs, self.weights) + self.bias\n",
        "        self.output = sigmoid(self.linear_sum)\n",
        "        return self.output\n",
        "\n",
        "    def backward(self, target):\n",
        "        error = target - self.output\n",
        "        delta = error * sigmoid_derivative(self.output)\n",
        "\n",
        "        self.weights += self.learning_rate * np.dot(self.inputs.T, delta)\n",
        "        self.bias += self.learning_rate * np.sum(delta)\n",
        "    def train(self, inputs, targets):\n",
        "        for epoch in range(self.epochs):\n",
        "            total_error = 0\n",
        "            for input_data, target in zip(inputs, targets):\n",
        "                output = self.forward(input_data)\n",
        "                total_error += mean_squared_error(target, output)\n",
        "                self.backward(target)\n",
        "\n",
        "            if epoch % 100 == 0:\n",
        "                print(f\"Epoch {epoch}, Error: {total_error}\")\n"
      ],
      "metadata": {
        "id": "kBRuW29KRfLi"
      },
      "execution_count": 6,
      "outputs": []
    },
    {
      "cell_type": "code",
      "source": [
        "# AND operation\n",
        "and_inputs = np.array([[0, 0], [0, 1], [1, 0], [1, 1]])\n",
        "and_targets = np.array([0, 0, 0, 1])\n",
        "\n",
        "and_perceptron = Perceptron(input_size=2)\n",
        "and_perceptron.train(and_inputs, and_targets)\n",
        "\n",
        "print(\"\\nAND gate:\")\n",
        "for input_data in and_inputs:\n",
        "    result_and = step_function(and_perceptron.forward(input_data))\n",
        "    print(f\"{input_data} -> {result_and}\")"
      ],
      "metadata": {
        "colab": {
          "base_uri": "https://localhost:8080/"
        },
        "id": "1gYQNihEUsF8",
        "outputId": "793275fd-22aa-4c78-b4b4-41d1f8bb003d"
      },
      "execution_count": 7,
      "outputs": [
        {
          "output_type": "stream",
          "name": "stdout",
          "text": [
            "Epoch 0, Error: 0.3564743725585682\n",
            "\n",
            "AND gate:\n",
            "[0 0] -> 0\n",
            "[0 1] -> 0\n",
            "[1 0] -> 0\n",
            "[1 1] -> 1\n"
          ]
        }
      ]
    },
    {
      "cell_type": "code",
      "source": [
        "# OR operation\n",
        "or_inputs = np.array([[0, 0], [0, 1], [1, 0], [1, 1]])\n",
        "or_targets = np.array([0, 1, 1, 1])\n",
        "\n",
        "or_perceptron = Perceptron(input_size=2)\n",
        "or_perceptron.train(or_inputs, or_targets)\n",
        "print(\"\\nOR gate:\")\n",
        "for input_data in or_inputs:\n",
        "    result_or = step_function(or_perceptron.forward(input_data))\n",
        "    print(f\"{input_data} -> {result_or}\")\n"
      ],
      "metadata": {
        "colab": {
          "base_uri": "https://localhost:8080/"
        },
        "id": "AYLOmFKtUxW1",
        "outputId": "a81fd331-b94c-4101-b5be-df77a5616a02"
      },
      "execution_count": 8,
      "outputs": [
        {
          "output_type": "stream",
          "name": "stdout",
          "text": [
            "Epoch 0, Error: 1.1695506641848474\n",
            "\n",
            "OR gate:\n",
            "[0 0] -> 1\n",
            "[0 1] -> 1\n",
            "[1 0] -> 1\n",
            "[1 1] -> 1\n"
          ]
        }
      ]
    },
    {
      "cell_type": "code",
      "source": [],
      "metadata": {
        "id": "2mL3uHTRY4dG"
      },
      "execution_count": null,
      "outputs": []
    }
  ]
}