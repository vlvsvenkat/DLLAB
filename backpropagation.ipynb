{
  "nbformat": 4,
  "nbformat_minor": 0,
  "metadata": {
    "colab": {
      "provenance": [],
      "authorship_tag": "ABX9TyMr3QLoWjgsCBNPX6xVpRbx",
      "include_colab_link": true
    },
    "kernelspec": {
      "name": "python3",
      "display_name": "Python 3"
    },
    "language_info": {
      "name": "python"
    }
  },
  "cells": [
    {
      "cell_type": "markdown",
      "metadata": {
        "id": "view-in-github",
        "colab_type": "text"
      },
      "source": [
        "<a href=\"https://colab.research.google.com/github/vlvsvenkat/DLLAB/blob/main/backpropagation.ipynb\" target=\"_parent\"><img src=\"https://colab.research.google.com/assets/colab-badge.svg\" alt=\"Open In Colab\"/></a>"
      ]
    },
    {
      "cell_type": "code",
      "execution_count": 36,
      "metadata": {
        "id": "ve9QwiQ9EN7v"
      },
      "outputs": [],
      "source": [
        "from math import exp\n",
        "from random import seed\n",
        "from random import random"
      ]
    },
    {
      "cell_type": "code",
      "source": [
        "def initialize_network(n_inputs, n_hidden, n_outputs):\n",
        " network = list()\n",
        " hidden_layer = [{'weights':[random() for i in range(n_inputs + 1)]} for i in range(n_hidden)]\n",
        " network.append(hidden_layer)\n",
        " output_layer = [{'weights':[random() for i in range(n_hidden + 1)]} for i in range(n_outputs)]\n",
        " network.append(output_layer)\n",
        " return network"
      ],
      "metadata": {
        "id": "0tFZcwNOFsDo"
      },
      "execution_count": 37,
      "outputs": []
    },
    {
      "cell_type": "code",
      "source": [
        "def activate(weights, inputs):\n",
        " activation = weights[-1]\n",
        " for i in range(len(weights)-1):\n",
        "   activation += weights[i] * inputs[i]\n",
        " return activation"
      ],
      "metadata": {
        "id": "WdrHC_wYFwC3"
      },
      "execution_count": 19,
      "outputs": []
    },
    {
      "cell_type": "code",
      "source": [
        "def transfer(activation):\n",
        " return 1.0 / (1.0 + exp(-activation))"
      ],
      "metadata": {
        "id": "vjGhQdQvFzov"
      },
      "execution_count": 20,
      "outputs": []
    },
    {
      "cell_type": "code",
      "source": [
        "def forward_propagate(network, row):\n",
        "    inputs = row\n",
        "    for layer in network:\n",
        "        new_inputs = []\n",
        "        for neuron in layer:\n",
        "            activation = activate(neuron['weights'], inputs)\n",
        "            neuron['output'] = transfer(activation)\n",
        "            new_inputs.append(neuron['output'])\n",
        "        inputs = new_inputs\n",
        "    return inputs"
      ],
      "metadata": {
        "id": "byjan2T4F5pn"
      },
      "execution_count": 39,
      "outputs": []
    },
    {
      "cell_type": "code",
      "source": [
        "def transfer_derivative(output):\n",
        " return output * (1.0 - output)"
      ],
      "metadata": {
        "id": "XLkcmA9JF9ce"
      },
      "execution_count": 22,
      "outputs": []
    },
    {
      "cell_type": "code",
      "source": [
        "def backward_propagate_error(network, expected):\n",
        "    for i in reversed(range(len(network))):\n",
        "        layer = network[i]\n",
        "        errors = []\n",
        "        if i == len(network) - 1:\n",
        "            for j in range(len(layer)):\n",
        "                neuron = layer[j]\n",
        "                errors.append(expected[j] - neuron['output'])\n",
        "        else:\n",
        "            for j in range(len(layer)):\n",
        "                error = 0.0\n",
        "                for neuron in network[i + 1]:\n",
        "                    error += (neuron['weights'][j] * neuron['delta'])\n",
        "                errors.append(error)\n",
        "        for j in range(len(layer)):\n",
        "            neuron = layer[j]\n",
        "            neuron['delta'] = errors[j] * transfer_derivative(neuron['output'])"
      ],
      "metadata": {
        "id": "lE5rbvouGAg-"
      },
      "execution_count": 40,
      "outputs": []
    },
    {
      "cell_type": "code",
      "source": [
        "def update_weights(network, row, l_rate):\n",
        "    for i in range(len(network)):\n",
        "        inputs = row[:-1]\n",
        "        if i != 0:\n",
        "            inputs = [neuron['output'] for neuron in network[i - 1]]\n",
        "        for neuron in network[i]:\n",
        "            for j in range(len(inputs)):\n",
        "                neuron['weights'][j] += l_rate * neuron['delta'] * inputs[j]\n",
        "            neuron['weights'][-1] += l_rate * neuron['delta']"
      ],
      "metadata": {
        "id": "yxMNaMH4GOjN"
      },
      "execution_count": 24,
      "outputs": []
    },
    {
      "cell_type": "code",
      "source": [
        "def train_network(network, train, l_rate, n_epoch, n_outputs):\n",
        "    print(\"\\nNetwork Training Begins:\\n\")\n",
        "\n",
        "    for epoch in range(n_epoch):\n",
        "        sum_error = 0\n",
        "        for row in train:\n",
        "            outputs = forward_propagate(network, row)\n",
        "            expected = [0 for _ in range(n_outputs)]\n",
        "            expected[int(row[-1])] = 1\n",
        "            sum_error += sum([(expected[i] - outputs[i]) ** 2 for i in range(len(expected))])\n",
        "            backward_propagate_error(network, expected)\n",
        "            update_weights(network, row, l_rate)\n",
        "        print('>epoch=%d, lrate=%.3f, error=%.3f' % (epoch, l_rate, sum_error))\n",
        "\n",
        "    print(\"\\nNetwork Training Ends:\\n\")"
      ],
      "metadata": {
        "id": "QYiPAdkmGXm9"
      },
      "execution_count": 41,
      "outputs": []
    },
    {
      "cell_type": "code",
      "source": [
        "seed(2)\n",
        "dataset = [[2.7810836,2.550537003,0],\n",
        "    [1.465489372,2.362125076,0],\n",
        "    [3.396561688,4.400293529,0],\n",
        "    [1.38807019,1.850220317,0],\n",
        "    [3.06407232,3.005305973,0],\n",
        "    [7.627531214,2.759262235,1],\n",
        "    [5.332441248,2.088626775,1],\n",
        "    [6.922596716,1.77106367,1],\n",
        "    [8.675418651,-0.242068655,1],\n",
        "    [7.673756466,3.508563011,1]]\n",
        "\n",
        "print(\"\\n The input Data Set :\\n\",dataset)\n",
        "n_inputs = len(dataset[0]) - 1\n",
        "print(\"\\n Number of Inputs :\\n\",n_inputs)\n",
        "n_outputs = len(set([row[-1] for row in dataset]))\n",
        "print(\"\\n Number of Outputs :\\n\",n_outputs)\n"
      ],
      "metadata": {
        "colab": {
          "base_uri": "https://localhost:8080/"
        },
        "id": "27ld3VyMGb6k",
        "outputId": "2759e495-2bfa-4589-d50c-896cda6dd754"
      },
      "execution_count": 42,
      "outputs": [
        {
          "output_type": "stream",
          "name": "stdout",
          "text": [
            "\n",
            " The input Data Set :\n",
            " [[2.7810836, 2.550537003, 0], [1.465489372, 2.362125076, 0], [3.396561688, 4.400293529, 0], [1.38807019, 1.850220317, 0], [3.06407232, 3.005305973, 0], [7.627531214, 2.759262235, 1], [5.332441248, 2.088626775, 1], [6.922596716, 1.77106367, 1], [8.675418651, -0.242068655, 1], [7.673756466, 3.508563011, 1]]\n",
            "\n",
            " Number of Inputs :\n",
            " 2\n",
            "\n",
            " Number of Outputs :\n",
            " 2\n"
          ]
        }
      ]
    },
    {
      "cell_type": "code",
      "source": [
        "network = initialize_network(n_inputs, 2, n_outputs)\n",
        "\n",
        "train_network(network, dataset, 0.5, 20, n_outputs)\n",
        "print(\"\\nFinal Neural Network:\\n\")\n",
        "\n",
        "i = 1\n",
        "for layer in network:\n",
        "    j = 1\n",
        "    for sub in layer:\n",
        "        print(\"\\nLayer[%d] Node[%d]:\\n\" % (i, j), sub)\n",
        "        j += 1\n",
        "    i += 1"
      ],
      "metadata": {
        "colab": {
          "base_uri": "https://localhost:8080/"
        },
        "id": "R4n-NedoHJio",
        "outputId": "e07589c4-5140-4f59-a96a-ff827d2fc8d1"
      },
      "execution_count": 44,
      "outputs": [
        {
          "output_type": "stream",
          "name": "stdout",
          "text": [
            "\n",
            "Network Training Begins:\n",
            "\n",
            ">epoch=0, lrate=0.500, error=5.591\n",
            ">epoch=1, lrate=0.500, error=5.363\n",
            ">epoch=2, lrate=0.500, error=5.366\n",
            ">epoch=3, lrate=0.500, error=5.388\n",
            ">epoch=4, lrate=0.500, error=5.401\n",
            ">epoch=5, lrate=0.500, error=5.407\n",
            ">epoch=6, lrate=0.500, error=5.409\n",
            ">epoch=7, lrate=0.500, error=5.409\n",
            ">epoch=8, lrate=0.500, error=5.409\n",
            ">epoch=9, lrate=0.500, error=5.408\n",
            ">epoch=10, lrate=0.500, error=5.407\n",
            ">epoch=11, lrate=0.500, error=5.406\n",
            ">epoch=12, lrate=0.500, error=5.405\n",
            ">epoch=13, lrate=0.500, error=5.405\n",
            ">epoch=14, lrate=0.500, error=5.404\n",
            ">epoch=15, lrate=0.500, error=5.403\n",
            ">epoch=16, lrate=0.500, error=5.402\n",
            ">epoch=17, lrate=0.500, error=5.401\n",
            ">epoch=18, lrate=0.500, error=5.401\n",
            ">epoch=19, lrate=0.500, error=5.400\n",
            "\n",
            "Network Training Ends:\n",
            "\n",
            "\n",
            "Final Neural Network:\n",
            "\n",
            "\n",
            "Layer[1] Node[1]:\n",
            " {'weights': [0.4201677499001046, 0.51043841716363, 0.769059456548311], 'output': 0.9969304769167221, 'delta': 2.9667921172382875e-05}\n",
            "\n",
            "Layer[1] Node[2]:\n",
            " {'weights': [0.9795967397211173, 0.9287597152652285, 0.5354665922999643], 'output': 0.9999877656665872, 'delta': 3.67905225327665e-07}\n",
            "\n",
            "Layer[2] Node[1]:\n",
            " {'weights': [-0.11490482550298953, -0.09490583422498206, -0.27322023821024777], 'output': 0.4181463185795176, 'delta': -0.1017349887889631}\n",
            "\n",
            "Layer[2] Node[2]:\n",
            " {'weights': [0.0818134386474683, 0.3024372939684889, 0.09879241521864578], 'output': 0.5818842249355577, 'delta': 0.10172546650066124}\n"
          ]
        }
      ]
    }
  ]
}